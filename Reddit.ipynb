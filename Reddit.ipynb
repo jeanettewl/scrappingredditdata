{
  "nbformat": 4,
  "nbformat_minor": 0,
  "metadata": {
    "colab": {
      "provenance": []
    },
    "kernelspec": {
      "name": "python3",
      "display_name": "Python 3"
    },
    "language_info": {
      "name": "python"
    }
  },
  "cells": [
    {
      "cell_type": "markdown",
      "source": [
        "# INSTALL LIBRARY"
      ],
      "metadata": {
        "id": "q_kttP8XEVZM"
      }
    },
    {
      "cell_type": "code",
      "source": [
        "pip install praw"
      ],
      "metadata": {
        "colab": {
          "base_uri": "https://localhost:8080/"
        },
        "id": "MY5TmQje3Rcz",
        "outputId": "f2acdd7f-edc3-4f43-858e-7f32a361794c"
      },
      "execution_count": 1,
      "outputs": [
        {
          "output_type": "stream",
          "name": "stdout",
          "text": [
            "Requirement already satisfied: praw in /usr/local/lib/python3.12/dist-packages (7.8.1)\n",
            "Requirement already satisfied: prawcore<3,>=2.4 in /usr/local/lib/python3.12/dist-packages (from praw) (2.4.0)\n",
            "Requirement already satisfied: update_checker>=0.18 in /usr/local/lib/python3.12/dist-packages (from praw) (0.18.0)\n",
            "Requirement already satisfied: websocket-client>=0.54.0 in /usr/local/lib/python3.12/dist-packages (from praw) (1.8.0)\n",
            "Requirement already satisfied: requests<3.0,>=2.6.0 in /usr/local/lib/python3.12/dist-packages (from prawcore<3,>=2.4->praw) (2.32.4)\n",
            "Requirement already satisfied: charset_normalizer<4,>=2 in /usr/local/lib/python3.12/dist-packages (from requests<3.0,>=2.6.0->prawcore<3,>=2.4->praw) (3.4.3)\n",
            "Requirement already satisfied: idna<4,>=2.5 in /usr/local/lib/python3.12/dist-packages (from requests<3.0,>=2.6.0->prawcore<3,>=2.4->praw) (3.10)\n",
            "Requirement already satisfied: urllib3<3,>=1.21.1 in /usr/local/lib/python3.12/dist-packages (from requests<3.0,>=2.6.0->prawcore<3,>=2.4->praw) (2.5.0)\n",
            "Requirement already satisfied: certifi>=2017.4.17 in /usr/local/lib/python3.12/dist-packages (from requests<3.0,>=2.6.0->prawcore<3,>=2.4->praw) (2025.8.3)\n"
          ]
        }
      ]
    },
    {
      "cell_type": "markdown",
      "source": [
        "# SCRAPING DATA"
      ],
      "metadata": {
        "id": "wLi8x981EayZ"
      }
    },
    {
      "cell_type": "markdown",
      "source": [
        "Scrapping Website Reddit"
      ],
      "metadata": {
        "id": "SI5bJWE-E8ee"
      }
    },
    {
      "cell_type": "markdown",
      "source": [
        "Komunitas Reddit yang membahas hal-hal seputar maskapai United Air Lines"
      ],
      "metadata": {
        "id": "ujdfgnAtFr8R"
      }
    },
    {
      "cell_type": "code",
      "source": [
        "import praw\n",
        "import csv\n",
        "\n",
        "# Isi dengan credential Reddit kamu\n",
        "reddit = praw.Reddit(client_id='nW2A0HomWxBNIsVTbpJCiQ',\n",
        "                     client_secret='M0NtDr79KIiTLHqdOckOr_1RH3tiAw',\n",
        "                     user_agent= 'script:scrap:v1.0 (by /u/username_reddit)')\n",
        "\n",
        "subreddit = reddit.subreddit('unitedairlines')\n",
        "\n",
        "\n",
        "# Buka file CSV untuk menulis (mode 'w' supaya overwrite file lama)\n",
        "with open('unitedairlines1000_posts.csv', mode='w', newline='', encoding='utf-8') as csvfile:\n",
        "    writer = csv.writer(csvfile)\n",
        "\n",
        "    # Tulis header kolom\n",
        "    writer.writerow(['Post ID', 'Title', 'Content', 'Created UTC', 'Score', 'URL'])\n",
        "\n",
        "    # Ambil 10 post terbaru\n",
        "    for post in subreddit.new(limit=10000):\n",
        "        writer.writerow([\n",
        "            post.id,\n",
        "            post.title,\n",
        "            post.selftext,\n",
        "            post.created_utc,\n",
        "            post.score,\n",
        "            post.url\n",
        "        ])\n",
        "\n",
        "print(\"Data berhasil disimpan ke unitedairlines1_posts.csv\")"
      ],
      "metadata": {
        "colab": {
          "base_uri": "https://localhost:8080/"
        },
        "id": "paDVt5Rq32GK",
        "outputId": "d1c8764f-d953-41b5-ed8d-f3e92fc670d5"
      },
      "execution_count": 2,
      "outputs": [
        {
          "output_type": "stream",
          "name": "stderr",
          "text": [
            "WARNING:praw:It appears that you are using PRAW in an asynchronous environment.\n",
            "It is strongly recommended to use Async PRAW: https://asyncpraw.readthedocs.io.\n",
            "See https://praw.readthedocs.io/en/latest/getting_started/multiple_instances.html#discord-bots-and-asynchronous-environments for more info.\n",
            "\n",
            "WARNING:praw:It appears that you are using PRAW in an asynchronous environment.\n",
            "It is strongly recommended to use Async PRAW: https://asyncpraw.readthedocs.io.\n",
            "See https://praw.readthedocs.io/en/latest/getting_started/multiple_instances.html#discord-bots-and-asynchronous-environments for more info.\n",
            "\n",
            "WARNING:praw:It appears that you are using PRAW in an asynchronous environment.\n",
            "It is strongly recommended to use Async PRAW: https://asyncpraw.readthedocs.io.\n",
            "See https://praw.readthedocs.io/en/latest/getting_started/multiple_instances.html#discord-bots-and-asynchronous-environments for more info.\n",
            "\n",
            "WARNING:praw:It appears that you are using PRAW in an asynchronous environment.\n",
            "It is strongly recommended to use Async PRAW: https://asyncpraw.readthedocs.io.\n",
            "See https://praw.readthedocs.io/en/latest/getting_started/multiple_instances.html#discord-bots-and-asynchronous-environments for more info.\n",
            "\n",
            "WARNING:praw:It appears that you are using PRAW in an asynchronous environment.\n",
            "It is strongly recommended to use Async PRAW: https://asyncpraw.readthedocs.io.\n",
            "See https://praw.readthedocs.io/en/latest/getting_started/multiple_instances.html#discord-bots-and-asynchronous-environments for more info.\n",
            "\n",
            "WARNING:praw:It appears that you are using PRAW in an asynchronous environment.\n",
            "It is strongly recommended to use Async PRAW: https://asyncpraw.readthedocs.io.\n",
            "See https://praw.readthedocs.io/en/latest/getting_started/multiple_instances.html#discord-bots-and-asynchronous-environments for more info.\n",
            "\n",
            "WARNING:praw:It appears that you are using PRAW in an asynchronous environment.\n",
            "It is strongly recommended to use Async PRAW: https://asyncpraw.readthedocs.io.\n",
            "See https://praw.readthedocs.io/en/latest/getting_started/multiple_instances.html#discord-bots-and-asynchronous-environments for more info.\n",
            "\n",
            "WARNING:praw:It appears that you are using PRAW in an asynchronous environment.\n",
            "It is strongly recommended to use Async PRAW: https://asyncpraw.readthedocs.io.\n",
            "See https://praw.readthedocs.io/en/latest/getting_started/multiple_instances.html#discord-bots-and-asynchronous-environments for more info.\n",
            "\n",
            "WARNING:praw:It appears that you are using PRAW in an asynchronous environment.\n",
            "It is strongly recommended to use Async PRAW: https://asyncpraw.readthedocs.io.\n",
            "See https://praw.readthedocs.io/en/latest/getting_started/multiple_instances.html#discord-bots-and-asynchronous-environments for more info.\n",
            "\n",
            "WARNING:praw:It appears that you are using PRAW in an asynchronous environment.\n",
            "It is strongly recommended to use Async PRAW: https://asyncpraw.readthedocs.io.\n",
            "See https://praw.readthedocs.io/en/latest/getting_started/multiple_instances.html#discord-bots-and-asynchronous-environments for more info.\n",
            "\n"
          ]
        },
        {
          "output_type": "stream",
          "name": "stdout",
          "text": [
            "Data berhasil disimpan ke unitedairlines1_posts.csv\n"
          ]
        }
      ]
    },
    {
      "cell_type": "markdown",
      "source": [
        "# PRE-PROCESSING"
      ],
      "metadata": {
        "id": "2XgkXxc647hj"
      }
    },
    {
      "cell_type": "code",
      "source": [
        "pip install pandas\n"
      ],
      "metadata": {
        "colab": {
          "base_uri": "https://localhost:8080/"
        },
        "id": "PNqcVaq949aF",
        "outputId": "a1aa3c1d-65fc-44cc-f384-6c49f3d771d2"
      },
      "execution_count": 3,
      "outputs": [
        {
          "output_type": "stream",
          "name": "stdout",
          "text": [
            "Requirement already satisfied: pandas in /usr/local/lib/python3.12/dist-packages (2.2.2)\n",
            "Requirement already satisfied: numpy>=1.26.0 in /usr/local/lib/python3.12/dist-packages (from pandas) (2.0.2)\n",
            "Requirement already satisfied: python-dateutil>=2.8.2 in /usr/local/lib/python3.12/dist-packages (from pandas) (2.9.0.post0)\n",
            "Requirement already satisfied: pytz>=2020.1 in /usr/local/lib/python3.12/dist-packages (from pandas) (2025.2)\n",
            "Requirement already satisfied: tzdata>=2022.7 in /usr/local/lib/python3.12/dist-packages (from pandas) (2025.2)\n",
            "Requirement already satisfied: six>=1.5 in /usr/local/lib/python3.12/dist-packages (from python-dateutil>=2.8.2->pandas) (1.17.0)\n"
          ]
        }
      ]
    },
    {
      "cell_type": "code",
      "source": [
        "import pandas as pd\n",
        "\n",
        "# Baca dua file CSV\n",
        "df1 = pd.read_csv('unitedairlines10000_posts.csv')\n",
        "df2 = pd.read_csv('unitedairlines1000_posts.csv')\n",
        "\n",
        "# Gabung (concat) dataframe secara vertikal (tambah baris)\n",
        "df_combined = pd.concat([df1, df2], ignore_index=True)\n",
        "\n",
        "# Cek hasil gabungan (berapa baris total)\n",
        "print(f\"Jumlah data gabungan: {len(df_combined)}\")\n",
        "\n",
        "# Simpan hasil gabungan ke file baru\n",
        "df_combined.to_csv('unitedairlines_combined_posts.csv', index=False)\n",
        "\n",
        "print(\"File gabungan berhasil disimpan sebagai 'unitedairlines_combined_posts.csv'\")\n"
      ],
      "metadata": {
        "colab": {
          "base_uri": "https://localhost:8080/"
        },
        "id": "DDMYF75K5XrZ",
        "outputId": "33dad416-3137-40f4-d2f1-a18dd5bc6620"
      },
      "execution_count": 4,
      "outputs": [
        {
          "output_type": "stream",
          "name": "stdout",
          "text": [
            "Jumlah data gabungan: 1972\n",
            "File gabungan berhasil disimpan sebagai 'unitedairlines_combined_posts.csv'\n"
          ]
        }
      ]
    },
    {
      "cell_type": "code",
      "source": [
        "df = df_combined"
      ],
      "metadata": {
        "id": "VcPWZ1tDA_ZU"
      },
      "execution_count": 5,
      "outputs": []
    },
    {
      "cell_type": "code",
      "source": [
        "# Pilih kolom yang mau dipertahankan\n",
        "cols_to_keep = ['Title', 'Content']\n",
        "\n",
        "# Buat dataframe baru hanya dengan kolom yang dipilih\n",
        "df_filtered = df[cols_to_keep]\n",
        "\n",
        "# Simpan ke file baru\n",
        "df_filtered.to_csv('unitedairlines_filtered.csv', index=False)"
      ],
      "metadata": {
        "id": "xpi-le0j6ezJ"
      },
      "execution_count": 6,
      "outputs": []
    },
    {
      "cell_type": "code",
      "source": [
        "import nltk\n",
        "nltk.download('stopwords')"
      ],
      "metadata": {
        "colab": {
          "base_uri": "https://localhost:8080/"
        },
        "id": "1R94E0IEGuv4",
        "outputId": "9b366e80-2015-4225-aa94-049b07b9f3eb"
      },
      "execution_count": 7,
      "outputs": [
        {
          "output_type": "stream",
          "name": "stderr",
          "text": [
            "[nltk_data] Downloading package stopwords to /root/nltk_data...\n",
            "[nltk_data]   Package stopwords is already up-to-date!\n"
          ]
        },
        {
          "output_type": "execute_result",
          "data": {
            "text/plain": [
              "True"
            ]
          },
          "metadata": {},
          "execution_count": 7
        }
      ]
    },
    {
      "cell_type": "code",
      "source": [
        "import re\n",
        "import numpy as np\n",
        "import pandas as pd\n",
        "from nltk.corpus import stopwords\n",
        "\n",
        "# Pastikan stopwords sudah diunduh (jalankan sekali aja)\n",
        "import nltk\n",
        "nltk.download('stopwords')\n",
        "\n",
        "# === 1. Bersihkan nilai kosong atau 'nan' jadi NaN ===\n",
        "df['Title'].replace(['nan', 'NaN', 'None', 'NULL', '', ' '], np.nan, inplace=True)\n",
        "df['Content'].replace(['nan', 'NaN', 'None', 'NULL', '', ' '], np.nan, inplace=True)\n",
        "\n",
        "# === 2. Hapus baris yang masih NaN ===\n",
        "df.dropna(subset=['Title', 'Content'], inplace=True)\n",
        "\n",
        "# === 3. Case folding (huruf kecil semua) ===\n",
        "df['Title'] = df['Title'].str.lower()\n",
        "df['Content'] = df['Content'].str.lower()\n",
        "\n",
        "# === 4. Fungsi untuk preprocessing bertahap ===\n",
        "def clean_text(text):\n",
        "    text = re.sub(r'http\\S+|www\\S+|https\\S+', '', text)       # hapus URL\n",
        "    text = re.sub(r'<.*?>', '', text)                         # hapus HTML tag\n",
        "    text = re.sub(r'[^a-z\\s]', '', text)                      # hapus angka & simbol\n",
        "    text = re.sub(r'\\s+', ' ', text).strip()                  # hapus spasi berlebih\n",
        "    return text\n",
        "\n",
        "# === 5. Terapkan ke kolom Content & Title ===\n",
        "df['Clean_Title'] = df['Title'].apply(clean_text)\n",
        "df['Clean_Content'] = df['Content'].apply(clean_text)\n",
        "\n",
        "# === 6. (Opsional) Hapus stopwords untuk model non-BERT ===\n",
        "stop_words = set(stopwords.words('english'))\n",
        "df['Clean_Content_NoStop'] = df['Clean_Content'].apply(\n",
        "    lambda x: ' '.join([word for word in x.split() if word not in stop_words])\n",
        ")\n",
        "\n",
        "# === 7. Simpan hasil ===\n",
        "df.to_csv('unitedairlines_final.csv', index=False)\n",
        "print(\"✅ Preprocessing selesai dan disimpan ke unitedairlines_final.csv\")\n"
      ],
      "metadata": {
        "colab": {
          "base_uri": "https://localhost:8080/"
        },
        "id": "RA9DIADSCVd3",
        "outputId": "af207b9c-df30-4bc9-b1e5-8a67e4f5755d"
      },
      "execution_count": 11,
      "outputs": [
        {
          "output_type": "stream",
          "name": "stderr",
          "text": [
            "[nltk_data] Downloading package stopwords to /root/nltk_data...\n",
            "[nltk_data]   Package stopwords is already up-to-date!\n",
            "/tmp/ipython-input-12783221.py:11: FutureWarning: A value is trying to be set on a copy of a DataFrame or Series through chained assignment using an inplace method.\n",
            "The behavior will change in pandas 3.0. This inplace method will never work because the intermediate object on which we are setting values always behaves as a copy.\n",
            "\n",
            "For example, when doing 'df[col].method(value, inplace=True)', try using 'df.method({col: value}, inplace=True)' or df[col] = df[col].method(value) instead, to perform the operation inplace on the original object.\n",
            "\n",
            "\n",
            "  df['Title'].replace(['nan', 'NaN', 'None', 'NULL', '', ' '], np.nan, inplace=True)\n",
            "/tmp/ipython-input-12783221.py:12: FutureWarning: A value is trying to be set on a copy of a DataFrame or Series through chained assignment using an inplace method.\n",
            "The behavior will change in pandas 3.0. This inplace method will never work because the intermediate object on which we are setting values always behaves as a copy.\n",
            "\n",
            "For example, when doing 'df[col].method(value, inplace=True)', try using 'df.method({col: value}, inplace=True)' or df[col] = df[col].method(value) instead, to perform the operation inplace on the original object.\n",
            "\n",
            "\n",
            "  df['Content'].replace(['nan', 'NaN', 'None', 'NULL', '', ' '], np.nan, inplace=True)\n"
          ]
        },
        {
          "output_type": "stream",
          "name": "stdout",
          "text": [
            "✅ Preprocessing selesai dan disimpan ke unitedairlines_final.csv\n"
          ]
        }
      ]
    },
    {
      "cell_type": "code",
      "source": [
        "# Cek jumlah data setelah dihapus\n",
        "print(\"Jumlah data setelah hapus missing:\", len(df))"
      ],
      "metadata": {
        "colab": {
          "base_uri": "https://localhost:8080/"
        },
        "id": "CdjQZnZGELlE",
        "outputId": "5a3d094a-0a0e-4450-8b7a-2858c4de5ecb"
      },
      "execution_count": 10,
      "outputs": [
        {
          "output_type": "stream",
          "name": "stdout",
          "text": [
            "Jumlah data setelah hapus missing: 1862\n"
          ]
        }
      ]
    }
  ]
}